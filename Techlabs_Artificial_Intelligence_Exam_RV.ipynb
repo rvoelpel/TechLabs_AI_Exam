{
  "nbformat": 4,
  "nbformat_minor": 0,
  "metadata": {
    "kernelspec": {
      "display_name": "Python 3",
      "language": "python",
      "name": "python3"
    },
    "language_info": {
      "codemirror_mode": {
        "name": "ipython",
        "version": 3
      },
      "file_extension": ".py",
      "mimetype": "text/x-python",
      "name": "python",
      "nbconvert_exporter": "python",
      "pygments_lexer": "ipython3",
      "version": "3.8.5"
    },
    "colab": {
      "name": "Techlabs Artificial Intelligence Exam.ipynb",
      "provenance": [],
      "collapsed_sections": []
    }
  },
  "cells": [
    {
      "cell_type": "markdown",
      "metadata": {
        "id": "gAW_5fgb7UYG"
      },
      "source": [
        "<img src=\"TechLabs.png\">"
      ]
    },
    {
      "cell_type": "markdown",
      "metadata": {
        "id": "k-fQckow7UYg"
      },
      "source": [
        "<h2>Please enter your full name here:</h2>"
      ]
    },
    {
      "cell_type": "markdown",
      "metadata": {
        "id": "0-yj31iF7UYh"
      },
      "source": [
        "\n",
        "<p> This exam will test your knowledge in Artificial Intelligence. </p>\n",
        "<p> We will test the following: </p>\n",
        "\n",
        "- Logistic Regressions\n",
        "- Neural Networks\n",
        "- Monte Carlo Simulation"
      ]
    },
    {
      "cell_type": "markdown",
      "metadata": {
        "id": "Hrh2R-va7UYj"
      },
      "source": [
        "# Question 1:\n",
        "Below is the code to import a standard dataset with breast cancer.\n",
        "When you run the cell, you will have it stored as the object \"data\",\n",
        "and the description of the dataset is printed out for you.\n",
        "\n",
        "### Your task is to create two models for classifying the diagnosis, and compare the accuracy metrics for the two:\n",
        "### 1. a) Logistic Regression: \n",
        "\"sklearn.linear_model\" offers good logit classifiers. Because the dataset is fairly small (~500 rows), we suggest that you use the \"liblinear\" solver for fitting the logit classifier.\n",
        "\n",
        "Split the dataset into a test and training (30% test / 70% training) dataset and train the model on the training dataset. Then, classify the test dataset, and compute the accuracy, which you can print as an output.\n",
        "\n",
        "P.S.: We do not expect you to regularize for type 1 or type 2 errors. Your goal is to build models that classify well the diagnosis. Also, we do not expect you to spend hours on feature engineering and/or other things that may or may not improve testing accuracy. A good answer shall just contain a sensible model and the testing accuracy."
      ]
    },
    {
      "cell_type": "code",
      "metadata": {
        "colab": {
          "base_uri": "https://localhost:8080/"
        },
        "id": "RKB79m_h7UYo",
        "outputId": "8728b0ba-bb2c-4723-a82f-80faf4dff36a"
      },
      "source": [
        "import numpy as np\n",
        "\n",
        "from sklearn import datasets\n",
        "data = datasets.load_breast_cancer()\n",
        "print(np.shape(data.data))"
      ],
      "execution_count": null,
      "outputs": [
        {
          "output_type": "stream",
          "text": [
            "(569, 30)\n"
          ],
          "name": "stdout"
        }
      ]
    },
    {
      "cell_type": "code",
      "metadata": {
        "colab": {
          "base_uri": "https://localhost:8080/"
        },
        "id": "GtYCrE6R7UYu",
        "outputId": "7c59f44d-0a11-496d-d125-300285493d22"
      },
      "source": [
        "print(data.DESCR)"
      ],
      "execution_count": null,
      "outputs": [
        {
          "output_type": "stream",
          "text": [
            ".. _breast_cancer_dataset:\n",
            "\n",
            "Breast cancer wisconsin (diagnostic) dataset\n",
            "--------------------------------------------\n",
            "\n",
            "**Data Set Characteristics:**\n",
            "\n",
            "    :Number of Instances: 569\n",
            "\n",
            "    :Number of Attributes: 30 numeric, predictive attributes and the class\n",
            "\n",
            "    :Attribute Information:\n",
            "        - radius (mean of distances from center to points on the perimeter)\n",
            "        - texture (standard deviation of gray-scale values)\n",
            "        - perimeter\n",
            "        - area\n",
            "        - smoothness (local variation in radius lengths)\n",
            "        - compactness (perimeter^2 / area - 1.0)\n",
            "        - concavity (severity of concave portions of the contour)\n",
            "        - concave points (number of concave portions of the contour)\n",
            "        - symmetry \n",
            "        - fractal dimension (\"coastline approximation\" - 1)\n",
            "\n",
            "        The mean, standard error, and \"worst\" or largest (mean of the three\n",
            "        largest values) of these features were computed for each image,\n",
            "        resulting in 30 features.  For instance, field 3 is Mean Radius, field\n",
            "        13 is Radius SE, field 23 is Worst Radius.\n",
            "\n",
            "        - class:\n",
            "                - WDBC-Malignant\n",
            "                - WDBC-Benign\n",
            "\n",
            "    :Summary Statistics:\n",
            "\n",
            "    ===================================== ====== ======\n",
            "                                           Min    Max\n",
            "    ===================================== ====== ======\n",
            "    radius (mean):                        6.981  28.11\n",
            "    texture (mean):                       9.71   39.28\n",
            "    perimeter (mean):                     43.79  188.5\n",
            "    area (mean):                          143.5  2501.0\n",
            "    smoothness (mean):                    0.053  0.163\n",
            "    compactness (mean):                   0.019  0.345\n",
            "    concavity (mean):                     0.0    0.427\n",
            "    concave points (mean):                0.0    0.201\n",
            "    symmetry (mean):                      0.106  0.304\n",
            "    fractal dimension (mean):             0.05   0.097\n",
            "    radius (standard error):              0.112  2.873\n",
            "    texture (standard error):             0.36   4.885\n",
            "    perimeter (standard error):           0.757  21.98\n",
            "    area (standard error):                6.802  542.2\n",
            "    smoothness (standard error):          0.002  0.031\n",
            "    compactness (standard error):         0.002  0.135\n",
            "    concavity (standard error):           0.0    0.396\n",
            "    concave points (standard error):      0.0    0.053\n",
            "    symmetry (standard error):            0.008  0.079\n",
            "    fractal dimension (standard error):   0.001  0.03\n",
            "    radius (worst):                       7.93   36.04\n",
            "    texture (worst):                      12.02  49.54\n",
            "    perimeter (worst):                    50.41  251.2\n",
            "    area (worst):                         185.2  4254.0\n",
            "    smoothness (worst):                   0.071  0.223\n",
            "    compactness (worst):                  0.027  1.058\n",
            "    concavity (worst):                    0.0    1.252\n",
            "    concave points (worst):               0.0    0.291\n",
            "    symmetry (worst):                     0.156  0.664\n",
            "    fractal dimension (worst):            0.055  0.208\n",
            "    ===================================== ====== ======\n",
            "\n",
            "    :Missing Attribute Values: None\n",
            "\n",
            "    :Class Distribution: 212 - Malignant, 357 - Benign\n",
            "\n",
            "    :Creator:  Dr. William H. Wolberg, W. Nick Street, Olvi L. Mangasarian\n",
            "\n",
            "    :Donor: Nick Street\n",
            "\n",
            "    :Date: November, 1995\n",
            "\n",
            "This is a copy of UCI ML Breast Cancer Wisconsin (Diagnostic) datasets.\n",
            "https://goo.gl/U2Uwz2\n",
            "\n",
            "Features are computed from a digitized image of a fine needle\n",
            "aspirate (FNA) of a breast mass.  They describe\n",
            "characteristics of the cell nuclei present in the image.\n",
            "\n",
            "Separating plane described above was obtained using\n",
            "Multisurface Method-Tree (MSM-T) [K. P. Bennett, \"Decision Tree\n",
            "Construction Via Linear Programming.\" Proceedings of the 4th\n",
            "Midwest Artificial Intelligence and Cognitive Science Society,\n",
            "pp. 97-101, 1992], a classification method which uses linear\n",
            "programming to construct a decision tree.  Relevant features\n",
            "were selected using an exhaustive search in the space of 1-4\n",
            "features and 1-3 separating planes.\n",
            "\n",
            "The actual linear program used to obtain the separating plane\n",
            "in the 3-dimensional space is that described in:\n",
            "[K. P. Bennett and O. L. Mangasarian: \"Robust Linear\n",
            "Programming Discrimination of Two Linearly Inseparable Sets\",\n",
            "Optimization Methods and Software 1, 1992, 23-34].\n",
            "\n",
            "This database is also available through the UW CS ftp server:\n",
            "\n",
            "ftp ftp.cs.wisc.edu\n",
            "cd math-prog/cpo-dataset/machine-learn/WDBC/\n",
            "\n",
            ".. topic:: References\n",
            "\n",
            "   - W.N. Street, W.H. Wolberg and O.L. Mangasarian. Nuclear feature extraction \n",
            "     for breast tumor diagnosis. IS&T/SPIE 1993 International Symposium on \n",
            "     Electronic Imaging: Science and Technology, volume 1905, pages 861-870,\n",
            "     San Jose, CA, 1993.\n",
            "   - O.L. Mangasarian, W.N. Street and W.H. Wolberg. Breast cancer diagnosis and \n",
            "     prognosis via linear programming. Operations Research, 43(4), pages 570-577, \n",
            "     July-August 1995.\n",
            "   - W.H. Wolberg, W.N. Street, and O.L. Mangasarian. Machine learning techniques\n",
            "     to diagnose breast cancer from fine-needle aspirates. Cancer Letters 77 (1994) \n",
            "     163-171.\n"
          ],
          "name": "stdout"
        }
      ]
    },
    {
      "cell_type": "code",
      "metadata": {
        "colab": {
          "base_uri": "https://localhost:8080/",
          "height": 424
        },
        "id": "vUc3dcCW7UYw",
        "outputId": "68961f7b-7b24-4388-8429-0d02a3da71d2"
      },
      "source": [
        "#prepare dataset\n",
        "import pandas as pd\n",
        "\n",
        "df = pd.DataFrame(data.data[:,:], columns = data.feature_names)\n",
        "df\n",
        "\n",
        "target = pd.DataFrame(data.target)\n",
        "target"
      ],
      "execution_count": null,
      "outputs": [
        {
          "output_type": "execute_result",
          "data": {
            "text/html": [
              "<div>\n",
              "<style scoped>\n",
              "    .dataframe tbody tr th:only-of-type {\n",
              "        vertical-align: middle;\n",
              "    }\n",
              "\n",
              "    .dataframe tbody tr th {\n",
              "        vertical-align: top;\n",
              "    }\n",
              "\n",
              "    .dataframe thead th {\n",
              "        text-align: right;\n",
              "    }\n",
              "</style>\n",
              "<table border=\"1\" class=\"dataframe\">\n",
              "  <thead>\n",
              "    <tr style=\"text-align: right;\">\n",
              "      <th></th>\n",
              "      <th>0</th>\n",
              "    </tr>\n",
              "  </thead>\n",
              "  <tbody>\n",
              "    <tr>\n",
              "      <th>0</th>\n",
              "      <td>0</td>\n",
              "    </tr>\n",
              "    <tr>\n",
              "      <th>1</th>\n",
              "      <td>0</td>\n",
              "    </tr>\n",
              "    <tr>\n",
              "      <th>2</th>\n",
              "      <td>0</td>\n",
              "    </tr>\n",
              "    <tr>\n",
              "      <th>3</th>\n",
              "      <td>0</td>\n",
              "    </tr>\n",
              "    <tr>\n",
              "      <th>4</th>\n",
              "      <td>0</td>\n",
              "    </tr>\n",
              "    <tr>\n",
              "      <th>...</th>\n",
              "      <td>...</td>\n",
              "    </tr>\n",
              "    <tr>\n",
              "      <th>564</th>\n",
              "      <td>0</td>\n",
              "    </tr>\n",
              "    <tr>\n",
              "      <th>565</th>\n",
              "      <td>0</td>\n",
              "    </tr>\n",
              "    <tr>\n",
              "      <th>566</th>\n",
              "      <td>0</td>\n",
              "    </tr>\n",
              "    <tr>\n",
              "      <th>567</th>\n",
              "      <td>0</td>\n",
              "    </tr>\n",
              "    <tr>\n",
              "      <th>568</th>\n",
              "      <td>1</td>\n",
              "    </tr>\n",
              "  </tbody>\n",
              "</table>\n",
              "<p>569 rows × 1 columns</p>\n",
              "</div>"
            ],
            "text/plain": [
              "     0\n",
              "0    0\n",
              "1    0\n",
              "2    0\n",
              "3    0\n",
              "4    0\n",
              "..  ..\n",
              "564  0\n",
              "565  0\n",
              "566  0\n",
              "567  0\n",
              "568  1\n",
              "\n",
              "[569 rows x 1 columns]"
            ]
          },
          "metadata": {
            "tags": []
          },
          "execution_count": 5
        }
      ]
    },
    {
      "cell_type": "code",
      "metadata": {
        "colab": {
          "base_uri": "https://localhost:8080/"
        },
        "id": "E4tcYZki7UYx",
        "outputId": "bb7b7011-d298-4539-c003-d53abed15c78"
      },
      "source": [
        "from sklearn.model_selection import train_test_split\n",
        "from sklearn.linear_model import LogisticRegression\n",
        "\n",
        "X = df\n",
        "y = data.target\n",
        "\n",
        "X_train, X_test, y_train, y_test = train_test_split(X, y, test_size = 0.3)\n",
        "\n",
        "reg = LogisticRegression(solver = 'liblinear')\n",
        "\n",
        "reg.fit(X_train, y_train)\n",
        "\n",
        "reg.score(X_test, y_test)"
      ],
      "execution_count": null,
      "outputs": [
        {
          "output_type": "execute_result",
          "data": {
            "text/plain": [
              "0.9532163742690059"
            ]
          },
          "metadata": {
            "tags": []
          },
          "execution_count": 6
        }
      ]
    },
    {
      "cell_type": "markdown",
      "metadata": {
        "id": "v4XLIY1J7UY3"
      },
      "source": [
        "# Print the logit accuracy below:"
      ]
    },
    {
      "cell_type": "code",
      "metadata": {
        "colab": {
          "base_uri": "https://localhost:8080/"
        },
        "id": "ZAz8O1Y37UY4",
        "outputId": "cc30b1eb-4250-4668-ddbf-de673affcc73"
      },
      "source": [
        "logitacc = \"[0.9298245614035088]\"\n",
        "print(f\"\\ntesting set accuracy with logit is: {logitacc}\")"
      ],
      "execution_count": null,
      "outputs": [
        {
          "output_type": "stream",
          "text": [
            "\n",
            "testing set accuracy with logit is: [0.9298245614035088]\n"
          ],
          "name": "stdout"
        }
      ]
    },
    {
      "cell_type": "markdown",
      "metadata": {
        "id": "bJSd9uUD7UY7"
      },
      "source": [
        "### 1. b) Feedforward Neural Network:\n",
        "So far, so good. Let's see how a feedforward neural network does for the same task.\n",
        "\n",
        "Take the same train/test split as in a), and construct the following neural network, which you fit to the data:"
      ]
    },
    {
      "cell_type": "code",
      "metadata": {
        "jupyter": {
          "source_hidden": true
        },
        "colab": {
          "base_uri": "https://localhost:8080/"
        },
        "id": "op8eRBq17UY_",
        "outputId": "48728da6-37ee-4d0d-a18c-a1a48a78f670"
      },
      "source": [
        "import pickle\n",
        "pickle.loads(b'\\x80\\x03]q\\x00(X\\x15\\x00\\x00\\x00Model: \"sequential_2\"q\\x01XA\\x00\\x00\\x00_________________________________________________________________q\\x02XA\\x00\\x00\\x00Layer (type)                 Output Shape              Param #   q\\x03XA\\x00\\x00\\x00=================================================================q\\x04XA\\x00\\x00\\x00dense_5 (Dense)              (None, 30)                930       q\\x05XA\\x00\\x00\\x00_________________________________________________________________q\\x06XA\\x00\\x00\\x00dense_6 (Dense)              (None, 50)                1550      q\\x07XA\\x00\\x00\\x00_________________________________________________________________q\\x08XA\\x00\\x00\\x00dense_7 (Dense)              (None, 30)                1530      q\\tXA\\x00\\x00\\x00_________________________________________________________________q\\nXA\\x00\\x00\\x00dense_8 (Dense)              (None, 1)                 31        q\\x0bXA\\x00\\x00\\x00=================================================================q\\x0cX\\x13\\x00\\x00\\x00Total params: 4,041q\\rX\\x17\\x00\\x00\\x00Trainable params: 4,041q\\x0eX\\x17\\x00\\x00\\x00Non-trainable params: 0q\\x0fXA\\x00\\x00\\x00_________________________________________________________________q\\x10e.')"
      ],
      "execution_count": null,
      "outputs": [
        {
          "output_type": "execute_result",
          "data": {
            "text/plain": [
              "['Model: \"sequential_2\"',\n",
              " '_________________________________________________________________',\n",
              " 'Layer (type)                 Output Shape              Param #   ',\n",
              " '=================================================================',\n",
              " 'dense_5 (Dense)              (None, 30)                930       ',\n",
              " '_________________________________________________________________',\n",
              " 'dense_6 (Dense)              (None, 50)                1550      ',\n",
              " '_________________________________________________________________',\n",
              " 'dense_7 (Dense)              (None, 30)                1530      ',\n",
              " '_________________________________________________________________',\n",
              " 'dense_8 (Dense)              (None, 1)                 31        ',\n",
              " '=================================================================',\n",
              " 'Total params: 4,041',\n",
              " 'Trainable params: 4,041',\n",
              " 'Non-trainable params: 0',\n",
              " '_________________________________________________________________']"
            ]
          },
          "metadata": {
            "tags": []
          },
          "execution_count": 8
        }
      ]
    },
    {
      "cell_type": "markdown",
      "metadata": {
        "id": "_tMaJOKy7UZD"
      },
      "source": [
        "### You can use the library keras to contruct the ANN. Since we are dealing with a classification problem, we recommend binary_crossentropy as a loss function.\n",
        "Choose a reasonable batch size and epoch count and train the model.\n",
        "### Here again, print the testing dataset accuracy:"
      ]
    },
    {
      "cell_type": "code",
      "metadata": {
        "colab": {
          "base_uri": "https://localhost:8080/"
        },
        "id": "wmQo3mMm7UZD",
        "outputId": "a89c244d-7934-456b-e7b8-645bff32bbf5"
      },
      "source": [
        "from keras.models import Sequential\n",
        "from keras.layers import Dense\n",
        "\n",
        "model = Sequential()\n",
        "\n",
        "model.add(Dense(30, input_shape = (30,), activation = 'relu'))\n",
        "model.add(Dense(50, activation = 'relu'))\n",
        "model.add(Dense(30, activation = 'relu'))\n",
        "model.add(Dense(1, activation = 'sigmoid'))\n",
        "\n",
        "model.compile(optimizer = 'adam', loss = 'binary_crossentropy', metrics =['accuracy'])\n",
        "\n",
        "model.fit(X_train, y_train, epochs = 200, batch_size = 32)\n",
        "\n",
        "model.evaluate(X_test, y_test)"
      ],
      "execution_count": null,
      "outputs": [
        {
          "output_type": "stream",
          "text": [
            "Epoch 1/200\n",
            "13/13 [==============================] - 1s 2ms/step - loss: 21.5797 - accuracy: 0.4004\n",
            "Epoch 2/200\n",
            "13/13 [==============================] - 0s 2ms/step - loss: 4.1715 - accuracy: 0.3844\n",
            "Epoch 3/200\n",
            "13/13 [==============================] - 0s 2ms/step - loss: 1.9887 - accuracy: 0.5534\n",
            "Epoch 4/200\n",
            "13/13 [==============================] - 0s 2ms/step - loss: 0.5511 - accuracy: 0.8170\n",
            "Epoch 5/200\n",
            "13/13 [==============================] - 0s 2ms/step - loss: 0.5704 - accuracy: 0.7931\n",
            "Epoch 6/200\n",
            "13/13 [==============================] - 0s 2ms/step - loss: 0.3501 - accuracy: 0.8855\n",
            "Epoch 7/200\n",
            "13/13 [==============================] - 0s 2ms/step - loss: 0.3341 - accuracy: 0.8814\n",
            "Epoch 8/200\n",
            "13/13 [==============================] - 0s 2ms/step - loss: 0.3814 - accuracy: 0.8539\n",
            "Epoch 9/200\n",
            "13/13 [==============================] - 0s 2ms/step - loss: 0.3278 - accuracy: 0.8854\n",
            "Epoch 10/200\n",
            "13/13 [==============================] - 0s 2ms/step - loss: 0.3263 - accuracy: 0.8896\n",
            "Epoch 11/200\n",
            "13/13 [==============================] - 0s 2ms/step - loss: 0.2881 - accuracy: 0.9127\n",
            "Epoch 12/200\n",
            "13/13 [==============================] - 0s 2ms/step - loss: 0.2466 - accuracy: 0.9182\n",
            "Epoch 13/200\n",
            "13/13 [==============================] - 0s 3ms/step - loss: 0.2583 - accuracy: 0.9051\n",
            "Epoch 14/200\n",
            "13/13 [==============================] - 0s 2ms/step - loss: 0.2470 - accuracy: 0.8957\n",
            "Epoch 15/200\n",
            "13/13 [==============================] - 0s 2ms/step - loss: 0.2541 - accuracy: 0.9020\n",
            "Epoch 16/200\n",
            "13/13 [==============================] - 0s 2ms/step - loss: 0.2695 - accuracy: 0.8992\n",
            "Epoch 17/200\n",
            "13/13 [==============================] - 0s 2ms/step - loss: 0.2380 - accuracy: 0.9144\n",
            "Epoch 18/200\n",
            "13/13 [==============================] - 0s 2ms/step - loss: 0.3076 - accuracy: 0.8592\n",
            "Epoch 19/200\n",
            "13/13 [==============================] - 0s 2ms/step - loss: 0.3165 - accuracy: 0.8773\n",
            "Epoch 20/200\n",
            "13/13 [==============================] - 0s 2ms/step - loss: 0.2578 - accuracy: 0.8898\n",
            "Epoch 21/200\n",
            "13/13 [==============================] - 0s 2ms/step - loss: 0.3492 - accuracy: 0.8910\n",
            "Epoch 22/200\n",
            "13/13 [==============================] - 0s 2ms/step - loss: 0.2337 - accuracy: 0.8873\n",
            "Epoch 23/200\n",
            "13/13 [==============================] - 0s 2ms/step - loss: 0.2349 - accuracy: 0.8994\n",
            "Epoch 24/200\n",
            "13/13 [==============================] - 0s 2ms/step - loss: 0.2589 - accuracy: 0.8958\n",
            "Epoch 25/200\n",
            "13/13 [==============================] - 0s 2ms/step - loss: 0.2173 - accuracy: 0.9013\n",
            "Epoch 26/200\n",
            "13/13 [==============================] - 0s 2ms/step - loss: 0.2102 - accuracy: 0.9170\n",
            "Epoch 27/200\n",
            "13/13 [==============================] - 0s 2ms/step - loss: 0.2485 - accuracy: 0.8947\n",
            "Epoch 28/200\n",
            "13/13 [==============================] - 0s 2ms/step - loss: 0.2097 - accuracy: 0.9263\n",
            "Epoch 29/200\n",
            "13/13 [==============================] - 0s 3ms/step - loss: 0.2226 - accuracy: 0.8998\n",
            "Epoch 30/200\n",
            "13/13 [==============================] - 0s 2ms/step - loss: 0.2272 - accuracy: 0.9113\n",
            "Epoch 31/200\n",
            "13/13 [==============================] - 0s 2ms/step - loss: 0.2417 - accuracy: 0.9059\n",
            "Epoch 32/200\n",
            "13/13 [==============================] - 0s 2ms/step - loss: 0.2417 - accuracy: 0.9184\n",
            "Epoch 33/200\n",
            "13/13 [==============================] - 0s 2ms/step - loss: 0.2489 - accuracy: 0.9079\n",
            "Epoch 34/200\n",
            "13/13 [==============================] - 0s 3ms/step - loss: 0.2418 - accuracy: 0.9083\n",
            "Epoch 35/200\n",
            "13/13 [==============================] - 0s 2ms/step - loss: 0.2491 - accuracy: 0.9009\n",
            "Epoch 36/200\n",
            "13/13 [==============================] - 0s 2ms/step - loss: 0.2799 - accuracy: 0.8941\n",
            "Epoch 37/200\n",
            "13/13 [==============================] - 0s 3ms/step - loss: 0.3287 - accuracy: 0.8762\n",
            "Epoch 38/200\n",
            "13/13 [==============================] - 0s 2ms/step - loss: 0.2107 - accuracy: 0.9285\n",
            "Epoch 39/200\n",
            "13/13 [==============================] - 0s 2ms/step - loss: 0.2729 - accuracy: 0.9013\n",
            "Epoch 40/200\n",
            "13/13 [==============================] - 0s 2ms/step - loss: 0.3065 - accuracy: 0.8829\n",
            "Epoch 41/200\n",
            "13/13 [==============================] - 0s 2ms/step - loss: 0.2635 - accuracy: 0.8948\n",
            "Epoch 42/200\n",
            "13/13 [==============================] - 0s 2ms/step - loss: 0.2525 - accuracy: 0.9112\n",
            "Epoch 43/200\n",
            "13/13 [==============================] - 0s 3ms/step - loss: 0.3091 - accuracy: 0.8892\n",
            "Epoch 44/200\n",
            "13/13 [==============================] - 0s 2ms/step - loss: 0.2326 - accuracy: 0.9085\n",
            "Epoch 45/200\n",
            "13/13 [==============================] - 0s 2ms/step - loss: 0.2171 - accuracy: 0.9251\n",
            "Epoch 46/200\n",
            "13/13 [==============================] - 0s 2ms/step - loss: 0.2105 - accuracy: 0.9201\n",
            "Epoch 47/200\n",
            "13/13 [==============================] - 0s 2ms/step - loss: 0.3264 - accuracy: 0.8849\n",
            "Epoch 48/200\n",
            "13/13 [==============================] - 0s 2ms/step - loss: 0.3271 - accuracy: 0.8713\n",
            "Epoch 49/200\n",
            "13/13 [==============================] - 0s 2ms/step - loss: 0.2094 - accuracy: 0.9354\n",
            "Epoch 50/200\n",
            "13/13 [==============================] - 0s 2ms/step - loss: 0.2377 - accuracy: 0.9007\n",
            "Epoch 51/200\n",
            "13/13 [==============================] - 0s 2ms/step - loss: 0.3669 - accuracy: 0.8559\n",
            "Epoch 52/200\n",
            "13/13 [==============================] - 0s 2ms/step - loss: 0.3744 - accuracy: 0.8739\n",
            "Epoch 53/200\n",
            "13/13 [==============================] - 0s 2ms/step - loss: 0.3803 - accuracy: 0.8661\n",
            "Epoch 54/200\n",
            "13/13 [==============================] - 0s 2ms/step - loss: 0.1649 - accuracy: 0.9412\n",
            "Epoch 55/200\n",
            "13/13 [==============================] - 0s 2ms/step - loss: 0.2074 - accuracy: 0.9251\n",
            "Epoch 56/200\n",
            "13/13 [==============================] - 0s 3ms/step - loss: 0.2311 - accuracy: 0.9236\n",
            "Epoch 57/200\n",
            "13/13 [==============================] - 0s 2ms/step - loss: 0.1864 - accuracy: 0.9336\n",
            "Epoch 58/200\n",
            "13/13 [==============================] - 0s 2ms/step - loss: 0.1902 - accuracy: 0.9212\n",
            "Epoch 59/200\n",
            "13/13 [==============================] - 0s 2ms/step - loss: 0.2221 - accuracy: 0.9167\n",
            "Epoch 60/200\n",
            "13/13 [==============================] - 0s 2ms/step - loss: 0.1889 - accuracy: 0.9172\n",
            "Epoch 61/200\n",
            "13/13 [==============================] - 0s 2ms/step - loss: 0.2280 - accuracy: 0.9085\n",
            "Epoch 62/200\n",
            "13/13 [==============================] - 0s 2ms/step - loss: 0.1922 - accuracy: 0.9169\n",
            "Epoch 63/200\n",
            "13/13 [==============================] - 0s 3ms/step - loss: 0.2096 - accuracy: 0.9112\n",
            "Epoch 64/200\n",
            "13/13 [==============================] - 0s 2ms/step - loss: 0.1757 - accuracy: 0.9303\n",
            "Epoch 65/200\n",
            "13/13 [==============================] - 0s 2ms/step - loss: 0.1586 - accuracy: 0.9297\n",
            "Epoch 66/200\n",
            "13/13 [==============================] - 0s 2ms/step - loss: 0.2555 - accuracy: 0.8996\n",
            "Epoch 67/200\n",
            "13/13 [==============================] - 0s 2ms/step - loss: 0.2322 - accuracy: 0.9134\n",
            "Epoch 68/200\n",
            "13/13 [==============================] - 0s 2ms/step - loss: 0.2283 - accuracy: 0.9256\n",
            "Epoch 69/200\n",
            "13/13 [==============================] - 0s 2ms/step - loss: 0.1799 - accuracy: 0.9160\n",
            "Epoch 70/200\n",
            "13/13 [==============================] - 0s 2ms/step - loss: 0.1425 - accuracy: 0.9385\n",
            "Epoch 71/200\n",
            "13/13 [==============================] - 0s 2ms/step - loss: 0.2111 - accuracy: 0.8980\n",
            "Epoch 72/200\n",
            "13/13 [==============================] - 0s 2ms/step - loss: 0.1763 - accuracy: 0.9294\n",
            "Epoch 73/200\n",
            "13/13 [==============================] - 0s 2ms/step - loss: 0.1591 - accuracy: 0.9302\n",
            "Epoch 74/200\n",
            "13/13 [==============================] - 0s 2ms/step - loss: 0.3033 - accuracy: 0.8991\n",
            "Epoch 75/200\n",
            "13/13 [==============================] - 0s 2ms/step - loss: 0.2371 - accuracy: 0.9185\n",
            "Epoch 76/200\n",
            "13/13 [==============================] - 0s 2ms/step - loss: 0.2247 - accuracy: 0.9184\n",
            "Epoch 77/200\n",
            "13/13 [==============================] - 0s 2ms/step - loss: 0.2679 - accuracy: 0.8876\n",
            "Epoch 78/200\n",
            "13/13 [==============================] - 0s 2ms/step - loss: 0.2931 - accuracy: 0.8984\n",
            "Epoch 79/200\n",
            "13/13 [==============================] - 0s 2ms/step - loss: 0.2080 - accuracy: 0.9151\n",
            "Epoch 80/200\n",
            "13/13 [==============================] - 0s 2ms/step - loss: 0.2462 - accuracy: 0.8995\n",
            "Epoch 81/200\n",
            "13/13 [==============================] - 0s 2ms/step - loss: 0.1789 - accuracy: 0.9353\n",
            "Epoch 82/200\n",
            "13/13 [==============================] - 0s 2ms/step - loss: 0.1792 - accuracy: 0.9474\n",
            "Epoch 83/200\n",
            "13/13 [==============================] - 0s 2ms/step - loss: 0.2918 - accuracy: 0.8913\n",
            "Epoch 84/200\n",
            "13/13 [==============================] - 0s 2ms/step - loss: 0.3163 - accuracy: 0.8644\n",
            "Epoch 85/200\n",
            "13/13 [==============================] - 0s 2ms/step - loss: 0.2080 - accuracy: 0.9160\n",
            "Epoch 86/200\n",
            "13/13 [==============================] - 0s 2ms/step - loss: 0.2718 - accuracy: 0.8994\n",
            "Epoch 87/200\n",
            "13/13 [==============================] - 0s 2ms/step - loss: 0.3000 - accuracy: 0.8668\n",
            "Epoch 88/200\n",
            "13/13 [==============================] - 0s 2ms/step - loss: 0.1891 - accuracy: 0.9297\n",
            "Epoch 89/200\n",
            "13/13 [==============================] - 0s 2ms/step - loss: 0.2654 - accuracy: 0.8910\n",
            "Epoch 90/200\n",
            "13/13 [==============================] - 0s 2ms/step - loss: 0.1880 - accuracy: 0.9401\n",
            "Epoch 91/200\n",
            "13/13 [==============================] - 0s 2ms/step - loss: 0.1780 - accuracy: 0.9406\n",
            "Epoch 92/200\n",
            "13/13 [==============================] - 0s 2ms/step - loss: 0.2129 - accuracy: 0.9061\n",
            "Epoch 93/200\n",
            "13/13 [==============================] - 0s 3ms/step - loss: 0.2350 - accuracy: 0.8914\n",
            "Epoch 94/200\n",
            "13/13 [==============================] - 0s 3ms/step - loss: 0.1840 - accuracy: 0.9305\n",
            "Epoch 95/200\n",
            "13/13 [==============================] - 0s 2ms/step - loss: 0.1680 - accuracy: 0.9387\n",
            "Epoch 96/200\n",
            "13/13 [==============================] - 0s 2ms/step - loss: 0.1824 - accuracy: 0.9245\n",
            "Epoch 97/200\n",
            "13/13 [==============================] - 0s 2ms/step - loss: 0.1626 - accuracy: 0.9269\n",
            "Epoch 98/200\n",
            "13/13 [==============================] - 0s 2ms/step - loss: 0.1752 - accuracy: 0.9362\n",
            "Epoch 99/200\n",
            "13/13 [==============================] - 0s 2ms/step - loss: 0.1737 - accuracy: 0.9246\n",
            "Epoch 100/200\n",
            "13/13 [==============================] - 0s 2ms/step - loss: 0.2121 - accuracy: 0.9036\n",
            "Epoch 101/200\n",
            "13/13 [==============================] - 0s 4ms/step - loss: 0.2406 - accuracy: 0.9075\n",
            "Epoch 102/200\n",
            "13/13 [==============================] - 0s 2ms/step - loss: 0.1499 - accuracy: 0.9494\n",
            "Epoch 103/200\n",
            "13/13 [==============================] - 0s 2ms/step - loss: 0.1670 - accuracy: 0.9368\n",
            "Epoch 104/200\n",
            "13/13 [==============================] - 0s 2ms/step - loss: 0.2075 - accuracy: 0.9005\n",
            "Epoch 105/200\n",
            "13/13 [==============================] - 0s 2ms/step - loss: 0.1942 - accuracy: 0.9253\n",
            "Epoch 106/200\n",
            "13/13 [==============================] - 0s 2ms/step - loss: 0.1620 - accuracy: 0.9521\n",
            "Epoch 107/200\n",
            "13/13 [==============================] - 0s 3ms/step - loss: 0.1397 - accuracy: 0.9395\n",
            "Epoch 108/200\n",
            "13/13 [==============================] - 0s 2ms/step - loss: 0.1811 - accuracy: 0.9183\n",
            "Epoch 109/200\n",
            "13/13 [==============================] - 0s 2ms/step - loss: 0.1658 - accuracy: 0.9297\n",
            "Epoch 110/200\n",
            "13/13 [==============================] - 0s 2ms/step - loss: 0.1720 - accuracy: 0.9484\n",
            "Epoch 111/200\n",
            "13/13 [==============================] - 0s 2ms/step - loss: 0.1906 - accuracy: 0.9235\n",
            "Epoch 112/200\n",
            "13/13 [==============================] - 0s 2ms/step - loss: 0.2555 - accuracy: 0.8771\n",
            "Epoch 113/200\n",
            "13/13 [==============================] - 0s 2ms/step - loss: 0.1841 - accuracy: 0.9202\n",
            "Epoch 114/200\n",
            "13/13 [==============================] - 0s 2ms/step - loss: 0.2164 - accuracy: 0.9296\n",
            "Epoch 115/200\n",
            "13/13 [==============================] - 0s 2ms/step - loss: 0.1955 - accuracy: 0.9250\n",
            "Epoch 116/200\n",
            "13/13 [==============================] - 0s 4ms/step - loss: 0.1751 - accuracy: 0.9279\n",
            "Epoch 117/200\n",
            "13/13 [==============================] - 0s 2ms/step - loss: 0.2227 - accuracy: 0.9088\n",
            "Epoch 118/200\n",
            "13/13 [==============================] - 0s 2ms/step - loss: 0.1824 - accuracy: 0.9279\n",
            "Epoch 119/200\n",
            "13/13 [==============================] - 0s 3ms/step - loss: 0.1882 - accuracy: 0.9260\n",
            "Epoch 120/200\n",
            "13/13 [==============================] - 0s 2ms/step - loss: 0.1411 - accuracy: 0.9361\n",
            "Epoch 121/200\n",
            "13/13 [==============================] - 0s 2ms/step - loss: 0.1727 - accuracy: 0.9250\n",
            "Epoch 122/200\n",
            "13/13 [==============================] - 0s 2ms/step - loss: 0.2208 - accuracy: 0.9156\n",
            "Epoch 123/200\n",
            "13/13 [==============================] - 0s 2ms/step - loss: 0.1576 - accuracy: 0.9472\n",
            "Epoch 124/200\n",
            "13/13 [==============================] - 0s 2ms/step - loss: 0.2446 - accuracy: 0.9014\n",
            "Epoch 125/200\n",
            "13/13 [==============================] - 0s 2ms/step - loss: 0.2296 - accuracy: 0.9105\n",
            "Epoch 126/200\n",
            "13/13 [==============================] - 0s 2ms/step - loss: 0.1845 - accuracy: 0.9279\n",
            "Epoch 127/200\n",
            "13/13 [==============================] - 0s 2ms/step - loss: 0.1732 - accuracy: 0.9295\n",
            "Epoch 128/200\n",
            "13/13 [==============================] - 0s 2ms/step - loss: 0.2959 - accuracy: 0.8912\n",
            "Epoch 129/200\n",
            "13/13 [==============================] - 0s 2ms/step - loss: 0.1754 - accuracy: 0.9309\n",
            "Epoch 130/200\n",
            "13/13 [==============================] - 0s 2ms/step - loss: 0.2337 - accuracy: 0.9067\n",
            "Epoch 131/200\n",
            "13/13 [==============================] - 0s 3ms/step - loss: 0.2385 - accuracy: 0.9179\n",
            "Epoch 132/200\n",
            "13/13 [==============================] - 0s 2ms/step - loss: 0.1553 - accuracy: 0.9337\n",
            "Epoch 133/200\n",
            "13/13 [==============================] - 0s 2ms/step - loss: 0.1883 - accuracy: 0.9152\n",
            "Epoch 134/200\n",
            "13/13 [==============================] - 0s 3ms/step - loss: 0.1616 - accuracy: 0.9409\n",
            "Epoch 135/200\n",
            "13/13 [==============================] - 0s 3ms/step - loss: 0.2004 - accuracy: 0.9211\n",
            "Epoch 136/200\n",
            "13/13 [==============================] - 0s 2ms/step - loss: 0.1823 - accuracy: 0.9242\n",
            "Epoch 137/200\n",
            "13/13 [==============================] - 0s 3ms/step - loss: 0.1551 - accuracy: 0.9357\n",
            "Epoch 138/200\n",
            "13/13 [==============================] - 0s 2ms/step - loss: 0.1617 - accuracy: 0.9379\n",
            "Epoch 139/200\n",
            "13/13 [==============================] - 0s 2ms/step - loss: 0.1574 - accuracy: 0.9343\n",
            "Epoch 140/200\n",
            "13/13 [==============================] - 0s 2ms/step - loss: 0.2163 - accuracy: 0.9287\n",
            "Epoch 141/200\n",
            "13/13 [==============================] - 0s 2ms/step - loss: 0.1760 - accuracy: 0.9313\n",
            "Epoch 142/200\n",
            "13/13 [==============================] - 0s 2ms/step - loss: 0.1586 - accuracy: 0.9297\n",
            "Epoch 143/200\n",
            "13/13 [==============================] - 0s 3ms/step - loss: 0.2687 - accuracy: 0.8990\n",
            "Epoch 144/200\n",
            "13/13 [==============================] - 0s 3ms/step - loss: 0.1804 - accuracy: 0.9232\n",
            "Epoch 145/200\n",
            "13/13 [==============================] - 0s 2ms/step - loss: 0.1458 - accuracy: 0.9389\n",
            "Epoch 146/200\n",
            "13/13 [==============================] - 0s 2ms/step - loss: 0.1480 - accuracy: 0.9360\n",
            "Epoch 147/200\n",
            "13/13 [==============================] - 0s 2ms/step - loss: 0.2308 - accuracy: 0.9082\n",
            "Epoch 148/200\n",
            "13/13 [==============================] - 0s 2ms/step - loss: 0.1903 - accuracy: 0.9000\n",
            "Epoch 149/200\n",
            "13/13 [==============================] - 0s 3ms/step - loss: 0.1907 - accuracy: 0.9177\n",
            "Epoch 150/200\n",
            "13/13 [==============================] - 0s 3ms/step - loss: 0.2453 - accuracy: 0.9376\n",
            "Epoch 151/200\n",
            "13/13 [==============================] - 0s 3ms/step - loss: 0.4077 - accuracy: 0.8970\n",
            "Epoch 152/200\n",
            "13/13 [==============================] - 0s 2ms/step - loss: 0.1914 - accuracy: 0.9203\n",
            "Epoch 153/200\n",
            "13/13 [==============================] - 0s 4ms/step - loss: 0.1551 - accuracy: 0.9319\n",
            "Epoch 154/200\n",
            "13/13 [==============================] - 0s 2ms/step - loss: 0.1264 - accuracy: 0.9444\n",
            "Epoch 155/200\n",
            "13/13 [==============================] - 0s 2ms/step - loss: 0.1587 - accuracy: 0.9312\n",
            "Epoch 156/200\n",
            "13/13 [==============================] - 0s 3ms/step - loss: 0.1347 - accuracy: 0.9537\n",
            "Epoch 157/200\n",
            "13/13 [==============================] - 0s 2ms/step - loss: 0.1639 - accuracy: 0.9295\n",
            "Epoch 158/200\n",
            "13/13 [==============================] - 0s 2ms/step - loss: 0.2287 - accuracy: 0.8944\n",
            "Epoch 159/200\n",
            "13/13 [==============================] - 0s 2ms/step - loss: 0.1700 - accuracy: 0.9426\n",
            "Epoch 160/200\n",
            "13/13 [==============================] - 0s 3ms/step - loss: 0.2859 - accuracy: 0.9025\n",
            "Epoch 161/200\n",
            "13/13 [==============================] - 0s 2ms/step - loss: 0.1763 - accuracy: 0.9127\n",
            "Epoch 162/200\n",
            "13/13 [==============================] - 0s 2ms/step - loss: 0.1945 - accuracy: 0.9305\n",
            "Epoch 163/200\n",
            "13/13 [==============================] - 0s 3ms/step - loss: 0.1707 - accuracy: 0.9410\n",
            "Epoch 164/200\n",
            "13/13 [==============================] - 0s 3ms/step - loss: 0.1356 - accuracy: 0.9393\n",
            "Epoch 165/200\n",
            "13/13 [==============================] - 0s 2ms/step - loss: 0.1357 - accuracy: 0.9460\n",
            "Epoch 166/200\n",
            "13/13 [==============================] - 0s 2ms/step - loss: 0.2083 - accuracy: 0.9222\n",
            "Epoch 167/200\n",
            "13/13 [==============================] - 0s 3ms/step - loss: 0.2101 - accuracy: 0.9211\n",
            "Epoch 168/200\n",
            "13/13 [==============================] - 0s 2ms/step - loss: 0.1623 - accuracy: 0.9460\n",
            "Epoch 169/200\n",
            "13/13 [==============================] - 0s 3ms/step - loss: 0.1870 - accuracy: 0.9288\n",
            "Epoch 170/200\n",
            "13/13 [==============================] - 0s 2ms/step - loss: 0.1423 - accuracy: 0.9419\n",
            "Epoch 171/200\n",
            "13/13 [==============================] - 0s 2ms/step - loss: 0.1390 - accuracy: 0.9388\n",
            "Epoch 172/200\n",
            "13/13 [==============================] - 0s 2ms/step - loss: 0.1269 - accuracy: 0.9554\n",
            "Epoch 173/200\n",
            "13/13 [==============================] - 0s 3ms/step - loss: 0.1255 - accuracy: 0.9461\n",
            "Epoch 174/200\n",
            "13/13 [==============================] - 0s 2ms/step - loss: 0.1473 - accuracy: 0.9441\n",
            "Epoch 175/200\n",
            "13/13 [==============================] - 0s 3ms/step - loss: 0.1956 - accuracy: 0.9400\n",
            "Epoch 176/200\n",
            "13/13 [==============================] - 0s 2ms/step - loss: 0.1999 - accuracy: 0.9244\n",
            "Epoch 177/200\n",
            "13/13 [==============================] - 0s 2ms/step - loss: 0.2208 - accuracy: 0.9105\n",
            "Epoch 178/200\n",
            "13/13 [==============================] - 0s 2ms/step - loss: 0.1721 - accuracy: 0.9292\n",
            "Epoch 179/200\n",
            "13/13 [==============================] - 0s 3ms/step - loss: 0.2724 - accuracy: 0.9162\n",
            "Epoch 180/200\n",
            "13/13 [==============================] - 0s 3ms/step - loss: 0.1785 - accuracy: 0.9383\n",
            "Epoch 181/200\n",
            "13/13 [==============================] - 0s 2ms/step - loss: 0.1173 - accuracy: 0.9565\n",
            "Epoch 182/200\n",
            "13/13 [==============================] - 0s 2ms/step - loss: 0.1426 - accuracy: 0.9355\n",
            "Epoch 183/200\n",
            "13/13 [==============================] - 0s 3ms/step - loss: 0.1995 - accuracy: 0.9218\n",
            "Epoch 184/200\n",
            "13/13 [==============================] - 0s 2ms/step - loss: 0.1425 - accuracy: 0.9496\n",
            "Epoch 185/200\n",
            "13/13 [==============================] - 0s 2ms/step - loss: 0.1968 - accuracy: 0.9164\n",
            "Epoch 186/200\n",
            "13/13 [==============================] - 0s 3ms/step - loss: 0.1973 - accuracy: 0.9240\n",
            "Epoch 187/200\n",
            "13/13 [==============================] - 0s 2ms/step - loss: 0.3267 - accuracy: 0.8850\n",
            "Epoch 188/200\n",
            "13/13 [==============================] - 0s 2ms/step - loss: 0.1477 - accuracy: 0.9439\n",
            "Epoch 189/200\n",
            "13/13 [==============================] - 0s 2ms/step - loss: 0.1756 - accuracy: 0.9367\n",
            "Epoch 190/200\n",
            "13/13 [==============================] - 0s 2ms/step - loss: 0.1296 - accuracy: 0.9462\n",
            "Epoch 191/200\n",
            "13/13 [==============================] - 0s 2ms/step - loss: 0.1829 - accuracy: 0.9356\n",
            "Epoch 192/200\n",
            "13/13 [==============================] - 0s 2ms/step - loss: 0.1610 - accuracy: 0.9562\n",
            "Epoch 193/200\n",
            "13/13 [==============================] - 0s 2ms/step - loss: 0.2341 - accuracy: 0.9125\n",
            "Epoch 194/200\n",
            "13/13 [==============================] - 0s 3ms/step - loss: 0.1267 - accuracy: 0.9488\n",
            "Epoch 195/200\n",
            "13/13 [==============================] - 0s 2ms/step - loss: 0.1425 - accuracy: 0.9462\n",
            "Epoch 196/200\n",
            "13/13 [==============================] - 0s 2ms/step - loss: 0.1919 - accuracy: 0.9227\n",
            "Epoch 197/200\n",
            "13/13 [==============================] - 0s 2ms/step - loss: 0.1121 - accuracy: 0.9560\n",
            "Epoch 198/200\n",
            "13/13 [==============================] - 0s 2ms/step - loss: 0.1606 - accuracy: 0.9333\n",
            "Epoch 199/200\n",
            "13/13 [==============================] - 0s 2ms/step - loss: 0.1782 - accuracy: 0.9166\n",
            "Epoch 200/200\n",
            "13/13 [==============================] - 0s 2ms/step - loss: 0.2190 - accuracy: 0.8985\n",
            "6/6 [==============================] - 0s 4ms/step - loss: 0.1517 - accuracy: 0.9240\n"
          ],
          "name": "stdout"
        },
        {
          "output_type": "execute_result",
          "data": {
            "text/plain": [
              "[0.15172728896141052, 0.9239766001701355]"
            ]
          },
          "metadata": {
            "tags": []
          },
          "execution_count": 23
        }
      ]
    },
    {
      "cell_type": "code",
      "metadata": {
        "colab": {
          "base_uri": "https://localhost:8080/"
        },
        "id": "4ef31gm17UZF",
        "outputId": "fac3f69e-180e-4e1e-d554-1b513e88c894"
      },
      "source": [
        "ANNacc = \"[0.8985]\"\n",
        "print(f\"\\ntesting set accuracy with logit is: {ANNacc}\")"
      ],
      "execution_count": null,
      "outputs": [
        {
          "output_type": "stream",
          "text": [
            "\n",
            "testing set accuracy with logit is: [0.8985]\n"
          ],
          "name": "stdout"
        }
      ]
    },
    {
      "cell_type": "markdown",
      "metadata": {
        "id": "NJrXnfBG7UZK"
      },
      "source": [
        "### 1. c) Compare the performance of the neural net with the logit. Which one seems better at the job and why might that be?\n",
        "Please also comment on which model you would choose to implement in a case like this and why."
      ]
    },
    {
      "cell_type": "code",
      "metadata": {
        "id": "k94-EaLs7UZL",
        "outputId": "bf4dfe0e-3e08-4ef2-813f-a2d585616991"
      },
      "source": [
        "'''\n",
        "Merely looking at final accuracy I would chose the logistic regression. However, this decision requires a look at the trade-offs displayed in the confusion matrices.\n",
        "\n",
        "The ANN however, achieved higher accuracy in certain epochs but likely lost some again during gradient descend.\n",
        "\n",
        "Due to the higher explainability of the regression over the ANN, I would opt for the regression as accuracy levels are fairly similar.\n",
        "'''"
      ],
      "execution_count": null,
      "outputs": [
        {
          "output_type": "execute_result",
          "data": {
            "text/plain": [
              "'\\nTell us here how you would explain the differences in performance among the models\\n'"
            ]
          },
          "metadata": {
            "tags": []
          },
          "execution_count": 10
        }
      ]
    },
    {
      "cell_type": "markdown",
      "metadata": {
        "id": "JCVGo3Vb7UZN"
      },
      "source": [
        "# Question 2:\n",
        "### Your coding skills have gained you a job as an options trader at a successful hedge fund! Congratulations!!\n",
        "\n",
        "At the first day, your boss comes to you and asks you, whether he should buy a _call option_* with a certain set of characteristics for 1€.\n",
        "\n",
        "    *A call option gives you the right (but not obligation) to buy a share for a certain strike price. In other words, if the stock price is higher than the strike price, you get the difference, otherwise, you get 0: \n",
        "    \n",
        "    callpayoff = max(stockprice - strikeprice, 0) \n",
        "\n",
        "To price the option, you shall build a monte-carlo simulator which generatates _1 000 000_ random walks, each representing the stock price in one year, which is when the option can be expired. By taking the average of these payouts, you will get the expected payout at expiry!\n",
        "\n",
        "Luckily, your boss has also given you the characteristics and hints for how the stock price moves: \n",
        "\n",
        "The stock price follows a student T distribution with 3 degrees of freedom (the rvs function within the t class from scipy.stats package is a great tool for creating random walks with this distribution: https://docs.scipy.org/doc/scipy/reference/generated/scipy.stats.t.html  ctrl+f \"rvs\") \n",
        "\n",
        "- The stock price today: 69\n",
        "- Stock returns follow student T distribution with 3 degrees of freedom\n",
        "- drift of 10% per year \n",
        "- volatility of 20%\n",
        "- strike price of the option is 96\n",
        "\n",
        "### Build a function that returns the price of the call option, and shows your boss what payout he can expect from the option in order to explain him, whether he should buy it or not.\n",
        "\n",
        "    P.S.: If you run into trouble on your way, you can always ask for tips from your boss and since he is a nice guy, he will also give a good grade for all attempts!"
      ]
    },
    {
      "cell_type": "code",
      "metadata": {
        "id": "yGsaoDGO7UZP",
        "colab": {
          "base_uri": "https://localhost:8080/"
        },
        "outputId": "dd895c02-9a3b-4ee0-f1ff-6d509edf82e2"
      },
      "source": [
        "from scipy.stats import t\n",
        "import math\n",
        "import statistics as st\n",
        "\n",
        "price_now = 69\n",
        "num_simulations = 1000000\n",
        "sd = math.sqrt(0.2)\n",
        "drift = 0.1\n",
        "strike_price = 96\n",
        "dof = 3\n",
        "\n",
        "simulation = t.rvs(3, loc = price_now, scale = sd*price_now, size = num_simulations)\n",
        "\n",
        "\n",
        "def monte_carlo (simulation):\n",
        "  values = []\n",
        "\n",
        "  for price in simulation:\n",
        "    payoff = max((price * (1- drift)) - strike_price, 0)\n",
        "    values.append(payoff)\n",
        "\n",
        "  expected_payoff = st.mean(values)\n",
        "  print(f'Expected payoff: {expected_payoff}')\n",
        "\n",
        "monte_carlo(simulation)\n"
      ],
      "execution_count": 6,
      "outputs": [
        {
          "output_type": "stream",
          "text": [
            "Expected payoff: 5.0036362973173265\n"
          ],
          "name": "stdout"
        }
      ]
    },
    {
      "cell_type": "code",
      "metadata": {
        "id": "7BJS1Y4k-sKd"
      },
      "source": [
        "'''\r\n",
        "As can be seen above, the expected payoff is positive and hence the call option is a worthwile investment to be made, assuming no opportunity costs.\r\n",
        "'''"
      ],
      "execution_count": null,
      "outputs": []
    },
    {
      "cell_type": "markdown",
      "metadata": {
        "id": "0_KZuABI7UZR"
      },
      "source": [
        "# Good luck!\n",
        "\n",
        "Don't forget: google, github and stack overflow are your best friends!\n"
      ]
    }
  ]
}